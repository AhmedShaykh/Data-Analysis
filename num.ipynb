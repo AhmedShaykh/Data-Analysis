{
  "cells": [
    {
      "cell_type": "markdown",
      "metadata": {
        "id": "Fz2OYIfWWbQl"
      },
      "source": [
        "# **Scalar Value**"
      ]
    },
    {
      "cell_type": "code",
      "execution_count": 3,
      "metadata": {
        "colab": {
          "base_uri": "https://localhost:8080/"
        },
        "id": "gyiQ36zSWlim",
        "outputId": "99972e51-6007-43ae-a426-eabc10c2c579"
      },
      "outputs": [
        {
          "output_type": "stream",
          "name": "stdout",
          "text": [
            "Object: 1000\n",
            "Object Shape: ()\n",
            "Object Type: int64\n",
            "Object Type With Global Function: <class 'numpy.ndarray'>\n",
            "Number Of Dimension: 0\n",
            "Total Items In Array: 1\n",
            "Object Item Size: 8\n"
          ]
        }
      ],
      "source": [
        "import numpy as np;\n",
        "\n",
        "num : np.ndarray = np.array(1000); # N-Dimensional Array\n",
        "\n",
        "print(f\"Object: {num}\");\n",
        "\n",
        "print(f\"Object Shape: {num.shape}\");\n",
        "\n",
        "print(f\"Object Type: {num.dtype}\");\n",
        "\n",
        "print(f\"Object Type With Global Function: {type(num)}\");\n",
        "\n",
        "print(f\"Number Of Dimension: {num.ndim}\");\n",
        "\n",
        "print(f\"Total Items In Array: {num.size}\");\n",
        "\n",
        "print(f\"Object Item Size: {num.itemsize}\");"
      ]
    },
    {
      "cell_type": "markdown",
      "metadata": {
        "id": "strBNDUDWtnA"
      },
      "source": [
        "# **Vector Type**"
      ]
    },
    {
      "cell_type": "code",
      "execution_count": 4,
      "metadata": {
        "colab": {
          "base_uri": "https://localhost:8080/"
        },
        "id": "X_MTEZELWvM2",
        "outputId": "fdd4c664-c5f6-4c00-9a36-c7d28ab09cb6"
      },
      "outputs": [
        {
          "output_type": "stream",
          "name": "stdout",
          "text": [
            "Object: [1 2 3 4]\n",
            "Object Shape: (4,)\n",
            "Object Type: int64\n",
            "Object Type With Global Function: <class 'numpy.ndarray'>\n",
            "Number Of Dimension: 1\n",
            "Total Items In Array: 4\n",
            "Object Item Size: 8\n"
          ]
        }
      ],
      "source": [
        "num2 : np.ndarray = np.array([1,2,3,4]);\n",
        "\n",
        "print(f\"Object: {num2}\");\n",
        "\n",
        "print(f\"Object Shape: {num2.shape}\");\n",
        "\n",
        "print(f\"Object Type: {num2.dtype}\");\n",
        "\n",
        "print(f\"Object Type With Global Function: {type(num2)}\");\n",
        "\n",
        "print(f\"Number Of Dimension: {num2.ndim}\");\n",
        "\n",
        "print(f\"Total Items In Array: {num2.size}\");\n",
        "\n",
        "print(f\"Object Item Size: {num2.itemsize}\");"
      ]
    },
    {
      "cell_type": "markdown",
      "metadata": {
        "id": "tqC6jhKBygsf"
      },
      "source": [
        "# **Matrix**"
      ]
    },
    {
      "cell_type": "code",
      "execution_count": 5,
      "metadata": {
        "colab": {
          "base_uri": "https://localhost:8080/"
        },
        "id": "sSjXcHIxyjgr",
        "outputId": "72872ff7-f826-4f45-e24e-35dc2965366f"
      },
      "outputs": [
        {
          "output_type": "stream",
          "name": "stdout",
          "text": [
            "Object: [[ 0  1  2  3]\n",
            " [ 4  5  6  7]\n",
            " [ 8  9 10 11]]\n",
            "Object Shape: (3, 4)\n",
            "Object Type: int64\n",
            "Object Type With Global Function: <class 'numpy.ndarray'>\n",
            "Number Of Dimension: 2\n",
            "Total Items In Array: 12\n",
            "Object Item Size: 8\n"
          ]
        }
      ],
      "source": [
        "data = [[0, 1, 2, 3],\n",
        "        [4, 5, 6, 7],\n",
        "        [8, 9, 10, 11]];\n",
        "\n",
        "num3 : np.ndarray = np.array(data);\n",
        "\n",
        "print(f\"Object: {num3}\");\n",
        "\n",
        "print(f\"Object Shape: {num3.shape}\");\n",
        "\n",
        "print(f\"Object Type: {num3.dtype}\");\n",
        "\n",
        "print(f\"Object Type With Global Function: {type(num3)}\");\n",
        "\n",
        "print(f\"Number Of Dimension: {num3.ndim}\");\n",
        "\n",
        "print(f\"Total Items In Array: {num3.size}\");\n",
        "\n",
        "print(f\"Object Item Size: {num3.itemsize}\");"
      ]
    },
    {
      "cell_type": "markdown",
      "source": [
        "# **Numpy Arange With NDArray Types**"
      ],
      "metadata": {
        "id": "WQiACoLjsr7q"
      }
    },
    {
      "cell_type": "code",
      "execution_count": 14,
      "metadata": {
        "colab": {
          "base_uri": "https://localhost:8080/"
        },
        "id": "gflgMcg1nTX-",
        "outputId": "f897ea27-5c1a-4267-8e0b-f258afb1f238"
      },
      "outputs": [
        {
          "output_type": "stream",
          "name": "stdout",
          "text": [
            "[0 1 2 3 4 5 6 7 8 9]\n"
          ]
        }
      ],
      "source": [
        "from nptyping import NDArray, Shape, UInt64;\n",
        "\n",
        "data : NDArray[Shape[\"10\"], UInt64] = np.arange(10);\n",
        "\n",
        "print(data);"
      ]
    },
    {
      "cell_type": "code",
      "execution_count": 15,
      "metadata": {
        "colab": {
          "base_uri": "https://localhost:8080/"
        },
        "id": "S56kr0C4rEz7",
        "outputId": "4773d705-12a6-474d-d1f3-72459892a4c5"
      },
      "outputs": [
        {
          "output_type": "stream",
          "name": "stdout",
          "text": [
            "[ 1  2  3  4  5  6  7  8  9 10]\n",
            "[ 6  7  8  9 10 11 12 13 14 15]\n"
          ]
        }
      ],
      "source": [
        "from nptyping import NDArray, Shape, UInt64;\n",
        "\n",
        "data : NDArray[Shape[\"10\"], UInt64] = np.arange(1, 11);\n",
        "\n",
        "print(data);\n",
        "\n",
        "print(data + 5);"
      ]
    },
    {
      "cell_type": "code",
      "execution_count": 16,
      "metadata": {
        "colab": {
          "base_uri": "https://localhost:8080/"
        },
        "id": "VRhH2K8dt6rG",
        "outputId": "64177719-7ad5-4269-b824-94fa27acc62d"
      },
      "outputs": [
        {
          "output_type": "stream",
          "name": "stdout",
          "text": [
            "[6, 7, 8, 9, 10, 11, 12, 13, 14, 15]\n"
          ]
        }
      ],
      "source": [
        "newData : list[int] = list(range(1, 11));\n",
        "\n",
        "print([ i + 5 for i in newData ]); # List Comprehensive"
      ]
    },
    {
      "cell_type": "code",
      "execution_count": 17,
      "metadata": {
        "colab": {
          "base_uri": "https://localhost:8080/"
        },
        "id": "ikQxbFfSvXqA",
        "outputId": "476a7366-5fd5-47e7-e2bc-4a48ff610ee8"
      },
      "outputs": [
        {
          "output_type": "stream",
          "name": "stdout",
          "text": [
            "CPU times: user 13.2 ms, sys: 16.4 ms, total: 29.7 ms\n",
            "Wall time: 31.4 ms\n"
          ]
        },
        {
          "output_type": "execute_result",
          "data": {
            "text/plain": [
              "array([       6,        7,        8, ..., 10000002, 10000003, 10000004])"
            ]
          },
          "metadata": {},
          "execution_count": 17
        }
      ],
      "source": [
        "%%time\n",
        "\n",
        "data : NDArray[Shape[\"10000000\"], UInt64] = np.arange(1, 10000000);\n",
        "\n",
        "data + 5"
      ]
    },
    {
      "cell_type": "code",
      "execution_count": 18,
      "metadata": {
        "colab": {
          "base_uri": "https://localhost:8080/"
        },
        "id": "BC-ER-usvu10",
        "outputId": "56b30203-71e6-420d-c4ff-8a99c3fa80a0"
      },
      "outputs": [
        {
          "output_type": "stream",
          "name": "stdout",
          "text": [
            "CPU times: user 430 ms, sys: 446 ms, total: 876 ms\n",
            "Wall time: 880 ms\n"
          ]
        },
        {
          "output_type": "execute_result",
          "data": {
            "text/plain": [
              "[6,\n",
              " 7,\n",
              " 8,\n",
              " 9,\n",
              " 10,\n",
              " 11,\n",
              " 12,\n",
              " 13,\n",
              " 14,\n",
              " 15,\n",
              " 16,\n",
              " 17,\n",
              " 18,\n",
              " 19,\n",
              " 20,\n",
              " 21,\n",
              " 22,\n",
              " 23,\n",
              " 24,\n",
              " 25,\n",
              " 26,\n",
              " 27,\n",
              " 28,\n",
              " 29,\n",
              " 30,\n",
              " 31,\n",
              " 32,\n",
              " 33,\n",
              " 34,\n",
              " 35,\n",
              " 36,\n",
              " 37,\n",
              " 38,\n",
              " 39,\n",
              " 40,\n",
              " 41,\n",
              " 42,\n",
              " 43,\n",
              " 44,\n",
              " 45,\n",
              " 46,\n",
              " 47,\n",
              " 48,\n",
              " 49,\n",
              " 50,\n",
              " 51,\n",
              " 52,\n",
              " 53,\n",
              " 54,\n",
              " 55,\n",
              " 56,\n",
              " 57,\n",
              " 58,\n",
              " 59,\n",
              " 60,\n",
              " 61,\n",
              " 62,\n",
              " 63,\n",
              " 64,\n",
              " 65,\n",
              " 66,\n",
              " 67,\n",
              " 68,\n",
              " 69,\n",
              " 70,\n",
              " 71,\n",
              " 72,\n",
              " 73,\n",
              " 74,\n",
              " 75,\n",
              " 76,\n",
              " 77,\n",
              " 78,\n",
              " 79,\n",
              " 80,\n",
              " 81,\n",
              " 82,\n",
              " 83,\n",
              " 84,\n",
              " 85,\n",
              " 86,\n",
              " 87,\n",
              " 88,\n",
              " 89,\n",
              " 90,\n",
              " 91,\n",
              " 92,\n",
              " 93,\n",
              " 94,\n",
              " 95,\n",
              " 96,\n",
              " 97,\n",
              " 98,\n",
              " 99,\n",
              " 100,\n",
              " 101,\n",
              " 102,\n",
              " 103,\n",
              " 104,\n",
              " 105,\n",
              " 106,\n",
              " 107,\n",
              " 108,\n",
              " 109,\n",
              " 110,\n",
              " 111,\n",
              " 112,\n",
              " 113,\n",
              " 114,\n",
              " 115,\n",
              " 116,\n",
              " 117,\n",
              " 118,\n",
              " 119,\n",
              " 120,\n",
              " 121,\n",
              " 122,\n",
              " 123,\n",
              " 124,\n",
              " 125,\n",
              " 126,\n",
              " 127,\n",
              " 128,\n",
              " 129,\n",
              " 130,\n",
              " 131,\n",
              " 132,\n",
              " 133,\n",
              " 134,\n",
              " 135,\n",
              " 136,\n",
              " 137,\n",
              " 138,\n",
              " 139,\n",
              " 140,\n",
              " 141,\n",
              " 142,\n",
              " 143,\n",
              " 144,\n",
              " 145,\n",
              " 146,\n",
              " 147,\n",
              " 148,\n",
              " 149,\n",
              " 150,\n",
              " 151,\n",
              " 152,\n",
              " 153,\n",
              " 154,\n",
              " 155,\n",
              " 156,\n",
              " 157,\n",
              " 158,\n",
              " 159,\n",
              " 160,\n",
              " 161,\n",
              " 162,\n",
              " 163,\n",
              " 164,\n",
              " 165,\n",
              " 166,\n",
              " 167,\n",
              " 168,\n",
              " 169,\n",
              " 170,\n",
              " 171,\n",
              " 172,\n",
              " 173,\n",
              " 174,\n",
              " 175,\n",
              " 176,\n",
              " 177,\n",
              " 178,\n",
              " 179,\n",
              " 180,\n",
              " 181,\n",
              " 182,\n",
              " 183,\n",
              " 184,\n",
              " 185,\n",
              " 186,\n",
              " 187,\n",
              " 188,\n",
              " 189,\n",
              " 190,\n",
              " 191,\n",
              " 192,\n",
              " 193,\n",
              " 194,\n",
              " 195,\n",
              " 196,\n",
              " 197,\n",
              " 198,\n",
              " 199,\n",
              " 200,\n",
              " 201,\n",
              " 202,\n",
              " 203,\n",
              " 204,\n",
              " 205,\n",
              " 206,\n",
              " 207,\n",
              " 208,\n",
              " 209,\n",
              " 210,\n",
              " 211,\n",
              " 212,\n",
              " 213,\n",
              " 214,\n",
              " 215,\n",
              " 216,\n",
              " 217,\n",
              " 218,\n",
              " 219,\n",
              " 220,\n",
              " 221,\n",
              " 222,\n",
              " 223,\n",
              " 224,\n",
              " 225,\n",
              " 226,\n",
              " 227,\n",
              " 228,\n",
              " 229,\n",
              " 230,\n",
              " 231,\n",
              " 232,\n",
              " 233,\n",
              " 234,\n",
              " 235,\n",
              " 236,\n",
              " 237,\n",
              " 238,\n",
              " 239,\n",
              " 240,\n",
              " 241,\n",
              " 242,\n",
              " 243,\n",
              " 244,\n",
              " 245,\n",
              " 246,\n",
              " 247,\n",
              " 248,\n",
              " 249,\n",
              " 250,\n",
              " 251,\n",
              " 252,\n",
              " 253,\n",
              " 254,\n",
              " 255,\n",
              " 256,\n",
              " 257,\n",
              " 258,\n",
              " 259,\n",
              " 260,\n",
              " 261,\n",
              " 262,\n",
              " 263,\n",
              " 264,\n",
              " 265,\n",
              " 266,\n",
              " 267,\n",
              " 268,\n",
              " 269,\n",
              " 270,\n",
              " 271,\n",
              " 272,\n",
              " 273,\n",
              " 274,\n",
              " 275,\n",
              " 276,\n",
              " 277,\n",
              " 278,\n",
              " 279,\n",
              " 280,\n",
              " 281,\n",
              " 282,\n",
              " 283,\n",
              " 284,\n",
              " 285,\n",
              " 286,\n",
              " 287,\n",
              " 288,\n",
              " 289,\n",
              " 290,\n",
              " 291,\n",
              " 292,\n",
              " 293,\n",
              " 294,\n",
              " 295,\n",
              " 296,\n",
              " 297,\n",
              " 298,\n",
              " 299,\n",
              " 300,\n",
              " 301,\n",
              " 302,\n",
              " 303,\n",
              " 304,\n",
              " 305,\n",
              " 306,\n",
              " 307,\n",
              " 308,\n",
              " 309,\n",
              " 310,\n",
              " 311,\n",
              " 312,\n",
              " 313,\n",
              " 314,\n",
              " 315,\n",
              " 316,\n",
              " 317,\n",
              " 318,\n",
              " 319,\n",
              " 320,\n",
              " 321,\n",
              " 322,\n",
              " 323,\n",
              " 324,\n",
              " 325,\n",
              " 326,\n",
              " 327,\n",
              " 328,\n",
              " 329,\n",
              " 330,\n",
              " 331,\n",
              " 332,\n",
              " 333,\n",
              " 334,\n",
              " 335,\n",
              " 336,\n",
              " 337,\n",
              " 338,\n",
              " 339,\n",
              " 340,\n",
              " 341,\n",
              " 342,\n",
              " 343,\n",
              " 344,\n",
              " 345,\n",
              " 346,\n",
              " 347,\n",
              " 348,\n",
              " 349,\n",
              " 350,\n",
              " 351,\n",
              " 352,\n",
              " 353,\n",
              " 354,\n",
              " 355,\n",
              " 356,\n",
              " 357,\n",
              " 358,\n",
              " 359,\n",
              " 360,\n",
              " 361,\n",
              " 362,\n",
              " 363,\n",
              " 364,\n",
              " 365,\n",
              " 366,\n",
              " 367,\n",
              " 368,\n",
              " 369,\n",
              " 370,\n",
              " 371,\n",
              " 372,\n",
              " 373,\n",
              " 374,\n",
              " 375,\n",
              " 376,\n",
              " 377,\n",
              " 378,\n",
              " 379,\n",
              " 380,\n",
              " 381,\n",
              " 382,\n",
              " 383,\n",
              " 384,\n",
              " 385,\n",
              " 386,\n",
              " 387,\n",
              " 388,\n",
              " 389,\n",
              " 390,\n",
              " 391,\n",
              " 392,\n",
              " 393,\n",
              " 394,\n",
              " 395,\n",
              " 396,\n",
              " 397,\n",
              " 398,\n",
              " 399,\n",
              " 400,\n",
              " 401,\n",
              " 402,\n",
              " 403,\n",
              " 404,\n",
              " 405,\n",
              " 406,\n",
              " 407,\n",
              " 408,\n",
              " 409,\n",
              " 410,\n",
              " 411,\n",
              " 412,\n",
              " 413,\n",
              " 414,\n",
              " 415,\n",
              " 416,\n",
              " 417,\n",
              " 418,\n",
              " 419,\n",
              " 420,\n",
              " 421,\n",
              " 422,\n",
              " 423,\n",
              " 424,\n",
              " 425,\n",
              " 426,\n",
              " 427,\n",
              " 428,\n",
              " 429,\n",
              " 430,\n",
              " 431,\n",
              " 432,\n",
              " 433,\n",
              " 434,\n",
              " 435,\n",
              " 436,\n",
              " 437,\n",
              " 438,\n",
              " 439,\n",
              " 440,\n",
              " 441,\n",
              " 442,\n",
              " 443,\n",
              " 444,\n",
              " 445,\n",
              " 446,\n",
              " 447,\n",
              " 448,\n",
              " 449,\n",
              " 450,\n",
              " 451,\n",
              " 452,\n",
              " 453,\n",
              " 454,\n",
              " 455,\n",
              " 456,\n",
              " 457,\n",
              " 458,\n",
              " 459,\n",
              " 460,\n",
              " 461,\n",
              " 462,\n",
              " 463,\n",
              " 464,\n",
              " 465,\n",
              " 466,\n",
              " 467,\n",
              " 468,\n",
              " 469,\n",
              " 470,\n",
              " 471,\n",
              " 472,\n",
              " 473,\n",
              " 474,\n",
              " 475,\n",
              " 476,\n",
              " 477,\n",
              " 478,\n",
              " 479,\n",
              " 480,\n",
              " 481,\n",
              " 482,\n",
              " 483,\n",
              " 484,\n",
              " 485,\n",
              " 486,\n",
              " 487,\n",
              " 488,\n",
              " 489,\n",
              " 490,\n",
              " 491,\n",
              " 492,\n",
              " 493,\n",
              " 494,\n",
              " 495,\n",
              " 496,\n",
              " 497,\n",
              " 498,\n",
              " 499,\n",
              " 500,\n",
              " 501,\n",
              " 502,\n",
              " 503,\n",
              " 504,\n",
              " 505,\n",
              " 506,\n",
              " 507,\n",
              " 508,\n",
              " 509,\n",
              " 510,\n",
              " 511,\n",
              " 512,\n",
              " 513,\n",
              " 514,\n",
              " 515,\n",
              " 516,\n",
              " 517,\n",
              " 518,\n",
              " 519,\n",
              " 520,\n",
              " 521,\n",
              " 522,\n",
              " 523,\n",
              " 524,\n",
              " 525,\n",
              " 526,\n",
              " 527,\n",
              " 528,\n",
              " 529,\n",
              " 530,\n",
              " 531,\n",
              " 532,\n",
              " 533,\n",
              " 534,\n",
              " 535,\n",
              " 536,\n",
              " 537,\n",
              " 538,\n",
              " 539,\n",
              " 540,\n",
              " 541,\n",
              " 542,\n",
              " 543,\n",
              " 544,\n",
              " 545,\n",
              " 546,\n",
              " 547,\n",
              " 548,\n",
              " 549,\n",
              " 550,\n",
              " 551,\n",
              " 552,\n",
              " 553,\n",
              " 554,\n",
              " 555,\n",
              " 556,\n",
              " 557,\n",
              " 558,\n",
              " 559,\n",
              " 560,\n",
              " 561,\n",
              " 562,\n",
              " 563,\n",
              " 564,\n",
              " 565,\n",
              " 566,\n",
              " 567,\n",
              " 568,\n",
              " 569,\n",
              " 570,\n",
              " 571,\n",
              " 572,\n",
              " 573,\n",
              " 574,\n",
              " 575,\n",
              " 576,\n",
              " 577,\n",
              " 578,\n",
              " 579,\n",
              " 580,\n",
              " 581,\n",
              " 582,\n",
              " 583,\n",
              " 584,\n",
              " 585,\n",
              " 586,\n",
              " 587,\n",
              " 588,\n",
              " 589,\n",
              " 590,\n",
              " 591,\n",
              " 592,\n",
              " 593,\n",
              " 594,\n",
              " 595,\n",
              " 596,\n",
              " 597,\n",
              " 598,\n",
              " 599,\n",
              " 600,\n",
              " 601,\n",
              " 602,\n",
              " 603,\n",
              " 604,\n",
              " 605,\n",
              " 606,\n",
              " 607,\n",
              " 608,\n",
              " 609,\n",
              " 610,\n",
              " 611,\n",
              " 612,\n",
              " 613,\n",
              " 614,\n",
              " 615,\n",
              " 616,\n",
              " 617,\n",
              " 618,\n",
              " 619,\n",
              " 620,\n",
              " 621,\n",
              " 622,\n",
              " 623,\n",
              " 624,\n",
              " 625,\n",
              " 626,\n",
              " 627,\n",
              " 628,\n",
              " 629,\n",
              " 630,\n",
              " 631,\n",
              " 632,\n",
              " 633,\n",
              " 634,\n",
              " 635,\n",
              " 636,\n",
              " 637,\n",
              " 638,\n",
              " 639,\n",
              " 640,\n",
              " 641,\n",
              " 642,\n",
              " 643,\n",
              " 644,\n",
              " 645,\n",
              " 646,\n",
              " 647,\n",
              " 648,\n",
              " 649,\n",
              " 650,\n",
              " 651,\n",
              " 652,\n",
              " 653,\n",
              " 654,\n",
              " 655,\n",
              " 656,\n",
              " 657,\n",
              " 658,\n",
              " 659,\n",
              " 660,\n",
              " 661,\n",
              " 662,\n",
              " 663,\n",
              " 664,\n",
              " 665,\n",
              " 666,\n",
              " 667,\n",
              " 668,\n",
              " 669,\n",
              " 670,\n",
              " 671,\n",
              " 672,\n",
              " 673,\n",
              " 674,\n",
              " 675,\n",
              " 676,\n",
              " 677,\n",
              " 678,\n",
              " 679,\n",
              " 680,\n",
              " 681,\n",
              " 682,\n",
              " 683,\n",
              " 684,\n",
              " 685,\n",
              " 686,\n",
              " 687,\n",
              " 688,\n",
              " 689,\n",
              " 690,\n",
              " 691,\n",
              " 692,\n",
              " 693,\n",
              " 694,\n",
              " 695,\n",
              " 696,\n",
              " 697,\n",
              " 698,\n",
              " 699,\n",
              " 700,\n",
              " 701,\n",
              " 702,\n",
              " 703,\n",
              " 704,\n",
              " 705,\n",
              " 706,\n",
              " 707,\n",
              " 708,\n",
              " 709,\n",
              " 710,\n",
              " 711,\n",
              " 712,\n",
              " 713,\n",
              " 714,\n",
              " 715,\n",
              " 716,\n",
              " 717,\n",
              " 718,\n",
              " 719,\n",
              " 720,\n",
              " 721,\n",
              " 722,\n",
              " 723,\n",
              " 724,\n",
              " 725,\n",
              " 726,\n",
              " 727,\n",
              " 728,\n",
              " 729,\n",
              " 730,\n",
              " 731,\n",
              " 732,\n",
              " 733,\n",
              " 734,\n",
              " 735,\n",
              " 736,\n",
              " 737,\n",
              " 738,\n",
              " 739,\n",
              " 740,\n",
              " 741,\n",
              " 742,\n",
              " 743,\n",
              " 744,\n",
              " 745,\n",
              " 746,\n",
              " 747,\n",
              " 748,\n",
              " 749,\n",
              " 750,\n",
              " 751,\n",
              " 752,\n",
              " 753,\n",
              " 754,\n",
              " 755,\n",
              " 756,\n",
              " 757,\n",
              " 758,\n",
              " 759,\n",
              " 760,\n",
              " 761,\n",
              " 762,\n",
              " 763,\n",
              " 764,\n",
              " 765,\n",
              " 766,\n",
              " 767,\n",
              " 768,\n",
              " 769,\n",
              " 770,\n",
              " 771,\n",
              " 772,\n",
              " 773,\n",
              " 774,\n",
              " 775,\n",
              " 776,\n",
              " 777,\n",
              " 778,\n",
              " 779,\n",
              " 780,\n",
              " 781,\n",
              " 782,\n",
              " 783,\n",
              " 784,\n",
              " 785,\n",
              " 786,\n",
              " 787,\n",
              " 788,\n",
              " 789,\n",
              " 790,\n",
              " 791,\n",
              " 792,\n",
              " 793,\n",
              " 794,\n",
              " 795,\n",
              " 796,\n",
              " 797,\n",
              " 798,\n",
              " 799,\n",
              " 800,\n",
              " 801,\n",
              " 802,\n",
              " 803,\n",
              " 804,\n",
              " 805,\n",
              " 806,\n",
              " 807,\n",
              " 808,\n",
              " 809,\n",
              " 810,\n",
              " 811,\n",
              " 812,\n",
              " 813,\n",
              " 814,\n",
              " 815,\n",
              " 816,\n",
              " 817,\n",
              " 818,\n",
              " 819,\n",
              " 820,\n",
              " 821,\n",
              " 822,\n",
              " 823,\n",
              " 824,\n",
              " 825,\n",
              " 826,\n",
              " 827,\n",
              " 828,\n",
              " 829,\n",
              " 830,\n",
              " 831,\n",
              " 832,\n",
              " 833,\n",
              " 834,\n",
              " 835,\n",
              " 836,\n",
              " 837,\n",
              " 838,\n",
              " 839,\n",
              " 840,\n",
              " 841,\n",
              " 842,\n",
              " 843,\n",
              " 844,\n",
              " 845,\n",
              " 846,\n",
              " 847,\n",
              " 848,\n",
              " 849,\n",
              " 850,\n",
              " 851,\n",
              " 852,\n",
              " 853,\n",
              " 854,\n",
              " 855,\n",
              " 856,\n",
              " 857,\n",
              " 858,\n",
              " 859,\n",
              " 860,\n",
              " 861,\n",
              " 862,\n",
              " 863,\n",
              " 864,\n",
              " 865,\n",
              " 866,\n",
              " 867,\n",
              " 868,\n",
              " 869,\n",
              " 870,\n",
              " 871,\n",
              " 872,\n",
              " 873,\n",
              " 874,\n",
              " 875,\n",
              " 876,\n",
              " 877,\n",
              " 878,\n",
              " 879,\n",
              " 880,\n",
              " 881,\n",
              " 882,\n",
              " 883,\n",
              " 884,\n",
              " 885,\n",
              " 886,\n",
              " 887,\n",
              " 888,\n",
              " 889,\n",
              " 890,\n",
              " 891,\n",
              " 892,\n",
              " 893,\n",
              " 894,\n",
              " 895,\n",
              " 896,\n",
              " 897,\n",
              " 898,\n",
              " 899,\n",
              " 900,\n",
              " 901,\n",
              " 902,\n",
              " 903,\n",
              " 904,\n",
              " 905,\n",
              " 906,\n",
              " 907,\n",
              " 908,\n",
              " 909,\n",
              " 910,\n",
              " 911,\n",
              " 912,\n",
              " 913,\n",
              " 914,\n",
              " 915,\n",
              " 916,\n",
              " 917,\n",
              " 918,\n",
              " 919,\n",
              " 920,\n",
              " 921,\n",
              " 922,\n",
              " 923,\n",
              " 924,\n",
              " 925,\n",
              " 926,\n",
              " 927,\n",
              " 928,\n",
              " 929,\n",
              " 930,\n",
              " 931,\n",
              " 932,\n",
              " 933,\n",
              " 934,\n",
              " 935,\n",
              " 936,\n",
              " 937,\n",
              " 938,\n",
              " 939,\n",
              " 940,\n",
              " 941,\n",
              " 942,\n",
              " 943,\n",
              " 944,\n",
              " 945,\n",
              " 946,\n",
              " 947,\n",
              " 948,\n",
              " 949,\n",
              " 950,\n",
              " 951,\n",
              " 952,\n",
              " 953,\n",
              " 954,\n",
              " 955,\n",
              " 956,\n",
              " 957,\n",
              " 958,\n",
              " 959,\n",
              " 960,\n",
              " 961,\n",
              " 962,\n",
              " 963,\n",
              " 964,\n",
              " 965,\n",
              " 966,\n",
              " 967,\n",
              " 968,\n",
              " 969,\n",
              " 970,\n",
              " 971,\n",
              " 972,\n",
              " 973,\n",
              " 974,\n",
              " 975,\n",
              " 976,\n",
              " 977,\n",
              " 978,\n",
              " 979,\n",
              " 980,\n",
              " 981,\n",
              " 982,\n",
              " 983,\n",
              " 984,\n",
              " 985,\n",
              " 986,\n",
              " 987,\n",
              " 988,\n",
              " 989,\n",
              " 990,\n",
              " 991,\n",
              " 992,\n",
              " 993,\n",
              " 994,\n",
              " 995,\n",
              " 996,\n",
              " 997,\n",
              " 998,\n",
              " 999,\n",
              " 1000,\n",
              " 1001,\n",
              " 1002,\n",
              " 1003,\n",
              " 1004,\n",
              " 1005,\n",
              " ...]"
            ]
          },
          "metadata": {},
          "execution_count": 18
        }
      ],
      "source": [
        "%%time\n",
        "\n",
        "data : list[int] = list(range(1, 10000000));\n",
        "\n",
        "[ i + 5 for i in data ] # Time Taken"
      ]
    },
    {
      "cell_type": "markdown",
      "metadata": {
        "id": "St30pu3Jxre6"
      },
      "source": [
        "# **Numpy Advanced Operations Vs List Operations**"
      ]
    },
    {
      "cell_type": "code",
      "execution_count": 19,
      "metadata": {
        "colab": {
          "base_uri": "https://localhost:8080/"
        },
        "id": "QGKmRgZ_xwP6",
        "outputId": "9f62eaff-4739-4e57-fd5e-618663e00ce5"
      },
      "outputs": [
        {
          "output_type": "stream",
          "name": "stdout",
          "text": [
            "[1, 2, 3, 4, 5, 6, 7, 8, 9, 10, 11, 12, 13, 14, 15, 16, 17, 18, 19, 20]\n",
            "[6, 7, 8, 9, 10, 11]\n"
          ]
        }
      ],
      "source": [
        "data : list[int] = list(range(1,21));\n",
        "\n",
        "print(data);\n",
        "\n",
        "print(data[5:11]);"
      ]
    },
    {
      "cell_type": "code",
      "execution_count": 20,
      "metadata": {
        "colab": {
          "base_uri": "https://localhost:8080/"
        },
        "id": "DvS69uBHy-Y8",
        "outputId": "9a1fb185-e85a-455d-b31f-90340baf12f7"
      },
      "outputs": [
        {
          "output_type": "stream",
          "name": "stdout",
          "text": [
            "[ 1  2  3  4  5  6  7  8  9 10 11 12 13 14 15 16 17 18 19 20]\n",
            "[ 6  7  8  9 10 11]\n",
            "[   1    2    3    4    5 1000 1000 1000 1000 1000 1000   12   13   14\n",
            "   15   16   17   18   19   20]\n"
          ]
        }
      ],
      "source": [
        "nData : NDArray[Shape[\"20\"], UInt64] = np.arange(1,21);\n",
        "\n",
        "print(nData);\n",
        "\n",
        "print(nData[5:11]);\n",
        "\n",
        "nData[5:11] = 1000;\n",
        "\n",
        "print(nData);"
      ]
    },
    {
      "cell_type": "markdown",
      "metadata": {
        "id": "KpBPl-tWZy5b"
      },
      "source": [
        "# **Boolean Slicing**"
      ]
    },
    {
      "cell_type": "code",
      "execution_count": 21,
      "metadata": {
        "colab": {
          "base_uri": "https://localhost:8080/"
        },
        "id": "iHlKVvmYcwYj",
        "outputId": "51e6aa94-23df-4d43-a23e-73103eb65018"
      },
      "outputs": [
        {
          "output_type": "stream",
          "name": "stdout",
          "text": [
            "[ 1 10]\n"
          ]
        }
      ],
      "source": [
        "from nptyping import Bool, UInt64;\n",
        "\n",
        "stateBank : NDArray[Shape[\"4\"], UInt64] = np.array([1,7,8,10]);\n",
        "\n",
        "select : NDArray[Shape[\"4\"], Bool]= np.array([True, False, False, True]);\n",
        "\n",
        "print(stateBank[select]); # Boolean Slicing"
      ]
    },
    {
      "cell_type": "code",
      "execution_count": 22,
      "metadata": {
        "colab": {
          "base_uri": "https://localhost:8080/"
        },
        "id": "ysgXxVQ2g5nP",
        "outputId": "be14f1c8-b362-4dcf-8213-db41df672134"
      },
      "outputs": [
        {
          "output_type": "stream",
          "name": "stdout",
          "text": [
            "[False  True False  True False  True False  True False  True]\n"
          ]
        }
      ],
      "source": [
        "stateBank : NDArray[Shape[\"10\"], UInt64] = np.array([1,2,3,4,5,6,7,8,9,10]);\n",
        "\n",
        "print(stateBank % 2 == 0);"
      ]
    },
    {
      "cell_type": "code",
      "execution_count": 23,
      "metadata": {
        "colab": {
          "base_uri": "https://localhost:8080/"
        },
        "id": "ZZ9a_kFGhKRf",
        "outputId": "dd9e6709-67d5-4723-b29b-637a778d3fda"
      },
      "outputs": [
        {
          "output_type": "stream",
          "name": "stdout",
          "text": [
            "[ 2  4  6  8 10]\n"
          ]
        }
      ],
      "source": [
        "stateBank : NDArray[Shape[\"10\"], UInt64] = np.array([1,2,3,4,5,6,7,8,9,10]);\n",
        "\n",
        "print(stateBank[stateBank % 2 == 0]);"
      ]
    },
    {
      "cell_type": "markdown",
      "source": [
        "# **Numpy 1D Function**"
      ],
      "metadata": {
        "id": "nmOZM_rWpN12"
      }
    },
    {
      "cell_type": "code",
      "execution_count": 24,
      "metadata": {
        "colab": {
          "base_uri": "https://localhost:8080/"
        },
        "id": "eqF3SyghkZUM",
        "outputId": "8c7f8dc8-e532-4e2a-d47c-312f48f66935"
      },
      "outputs": [
        {
          "output_type": "stream",
          "name": "stdout",
          "text": [
            "[ 1  7  8 10]\n",
            "[ 8 73  2 61 37  1 35 19 59 57 73 27 39  7 12 38 80 37 39  8]\n"
          ]
        }
      ],
      "source": [
        "stateBank : NDArray[Shape[\"4\"], UInt64] = np.array([1,7,8,10]);\n",
        "\n",
        "bank : NDArray[Shape[\"100\"], UInt64] = np.random.randint(1, 100, 20); # Start , End & Quantity\n",
        "\n",
        "print(stateBank);\n",
        "\n",
        "print(bank);"
      ]
    },
    {
      "cell_type": "code",
      "execution_count": 26,
      "metadata": {
        "colab": {
          "base_uri": "https://localhost:8080/"
        },
        "id": "BLrPMm85kitD",
        "outputId": "aa38269e-ed29-4eab-8632-1334d38b3e7b"
      },
      "outputs": [
        {
          "output_type": "stream",
          "name": "stdout",
          "text": [
            "[ True  True  True False]\n",
            "[1 7 8]\n"
          ]
        }
      ],
      "source": [
        "print(np.in1d(stateBank, bank));\n",
        "\n",
        "print(stateBank[np.in1d(stateBank, bank)]);"
      ]
    },
    {
      "cell_type": "code",
      "execution_count": 27,
      "metadata": {
        "colab": {
          "base_uri": "https://localhost:8080/"
        },
        "id": "KqGT6UOym0lR",
        "outputId": "de01e810-348b-4c41-bd07-317ff612504b"
      },
      "outputs": [
        {
          "output_type": "stream",
          "name": "stdout",
          "text": [
            "[1 7 8]\n"
          ]
        }
      ],
      "source": [
        "print(np.intersect1d(stateBank, bank));"
      ]
    },
    {
      "cell_type": "code",
      "execution_count": 31,
      "metadata": {
        "colab": {
          "base_uri": "https://localhost:8080/"
        },
        "id": "CkrYpicfo9Vw",
        "outputId": "53f219bc-7089-47a2-ed29-19fd6e234d8e"
      },
      "outputs": [
        {
          "output_type": "stream",
          "name": "stdout",
          "text": [
            "[1 3 4 9 7]\n",
            "[  6   3   2   5 100]\n",
            "[  6   3   4   9 100]\n",
            "[1 3 2 5 7]\n"
          ]
        }
      ],
      "source": [
        "x : NDArray[Shape[\"5\"], UInt64] = np.array([1,3,4,9,7]);\n",
        "\n",
        "y : NDArray[Shape[\"5\"], UInt64] = np.array([6,3,2,5,100]);\n",
        "\n",
        "print(x);\n",
        "\n",
        "print(y);\n",
        "\n",
        "print(np.where(x > y, x, y));\n",
        "\n",
        "print(np.where(x < y, x, y));"
      ]
    },
    {
      "cell_type": "markdown",
      "metadata": {
        "id": "NPK_L3QSqmNj"
      },
      "source": [
        "# **Numpy Array Types**"
      ]
    },
    {
      "cell_type": "code",
      "execution_count": 32,
      "metadata": {
        "colab": {
          "base_uri": "https://localhost:8080/"
        },
        "id": "88TPDfspqrJj",
        "outputId": "cdaca4b1-828f-4c14-bf74-06fb931838c4"
      },
      "outputs": [
        {
          "output_type": "stream",
          "name": "stdout",
          "text": [
            "[[1 2 3]\n",
            " [4 5 6]]\n",
            "[[1 2]\n",
            " [4 5]]\n",
            "[['A']\n",
            " ['B']]\n"
          ]
        }
      ],
      "source": [
        "from typing import Any;\n",
        "\n",
        "a : NDArray[Shape[\"Size, Size\"], Any] = np.array([[1, 2, 3],\n",
        "                                                  [4, 5, 6]]);\n",
        "print(a);\n",
        "\n",
        "a : NDArray[Shape[\"Size, Size\"], Any] = np.array([[1, 2],\n",
        "                                                  [4, 5]]);\n",
        "print(a);\n",
        "\n",
        "a : NDArray[Shape[\"Size, Size\"], Any] = np.array([[\"A\"],\n",
        "                                                  [\"B\"]]);\n",
        "print(a);"
      ]
    },
    {
      "cell_type": "code",
      "execution_count": 33,
      "metadata": {
        "colab": {
          "base_uri": "https://localhost:8080/"
        },
        "id": "Dq6ZfwufsieO",
        "outputId": "2dcbaf4e-ce04-471f-8838-1dd62efad16f"
      },
      "outputs": [
        {
          "output_type": "stream",
          "name": "stdout",
          "text": [
            "[[1 2 3]\n",
            " [4 5 6]]\n",
            "[[1 2]\n",
            " [4 5]]\n",
            "[['A']\n",
            " ['B']]\n"
          ]
        }
      ],
      "source": [
        "a : NDArray[Shape[\"*, *\"], UInt64] = np.array([[1, 2, 3],\n",
        "                                               [4, 5, 6]]);\n",
        "print(a);\n",
        "\n",
        "a : NDArray[Shape[\"*, *\"], UInt64] = np.array([[1, 2],\n",
        "                                               [4, 5]]);\n",
        "print(a);\n",
        "\n",
        "a : NDArray[Shape[\"*, *\"], UInt64] = np.array([[\"A\"],\n",
        "                                               [\"B\"]]);\n",
        "print(a);"
      ]
    },
    {
      "cell_type": "code",
      "execution_count": 34,
      "metadata": {
        "colab": {
          "base_uri": "https://localhost:8080/"
        },
        "id": "ezEBqnueswXo",
        "outputId": "c30cc7a3-3139-4edc-8cd8-5828f16b71ca"
      },
      "outputs": [
        {
          "output_type": "stream",
          "name": "stdout",
          "text": [
            "Name            Shape            Bytes            Type\n",
            "===========================================================\n",
            "\n",
            "__              9999999          79999992         int64\n",
            "num                              8                int64\n",
            "num2            4                32               int64\n",
            "num3            3 x 4            96               int64\n",
            "_9              9999999          79999992         int64\n",
            "nData           20               160              int64\n",
            "_17 (__)        9999999          79999992         int64\n",
            "stateBank       4                32               int64\n",
            "select          4                4                bool\n",
            "bank            20               160              int64\n",
            "x               5                40               int64\n",
            "y               5                40               int64\n",
            "a               2 x 1            8                str32\n",
            "\n",
            "Upper bound on total bytes  =       160000564\n"
          ]
        }
      ],
      "source": [
        "np.who() # It's Provide Every Present NumPy Array's Information"
      ]
    },
    {
      "cell_type": "code",
      "source": [
        "np.info(stateBank) # It's Provide Specific NumPy Array Information"
      ],
      "metadata": {
        "colab": {
          "base_uri": "https://localhost:8080/"
        },
        "id": "NlN5RhiO7mOl",
        "outputId": "99af80c3-8fe2-4d65-f644-ecc076688009"
      },
      "execution_count": 35,
      "outputs": [
        {
          "output_type": "stream",
          "name": "stdout",
          "text": [
            "class:  ndarray\n",
            "shape:  (4,)\n",
            "strides:  (8,)\n",
            "itemsize:  8\n",
            "aligned:  True\n",
            "contiguous:  True\n",
            "fortran:  True\n",
            "data pointer: 0x5945ee72acf0\n",
            "byteorder:  little\n",
            "byteswap:  False\n",
            "type: int64\n"
          ]
        }
      ]
    },
    {
      "cell_type": "markdown",
      "metadata": {
        "id": "wpiftAy0uTzu"
      },
      "source": [
        "# **NumPy Any Dimension Array**"
      ]
    },
    {
      "cell_type": "code",
      "execution_count": 36,
      "metadata": {
        "colab": {
          "base_uri": "https://localhost:8080/"
        },
        "id": "0hIPfx5JuY4O",
        "outputId": "6c33af60-09df-4a58-8dcb-74084c379c19"
      },
      "outputs": [
        {
          "output_type": "stream",
          "name": "stdout",
          "text": [
            "[1 2 3 4]\n",
            "[1 2 3 4 5 6 7 8 9]\n"
          ]
        }
      ],
      "source": [
        "a : NDArray[Shape[\"Size\"], UInt64] = np.arange(1, 5); # 1 Dimension Array\n",
        "\n",
        "print(a);\n",
        "\n",
        "b : NDArray[Shape[\"Size\"], UInt64] = np.arange(1, 10);\n",
        "\n",
        "print(b);"
      ]
    },
    {
      "cell_type": "code",
      "execution_count": 37,
      "metadata": {
        "colab": {
          "base_uri": "https://localhost:8080/"
        },
        "id": "oOTkZgdOvfma",
        "outputId": "6a474827-faae-435c-94ac-67a4e36a2164"
      },
      "outputs": [
        {
          "output_type": "stream",
          "name": "stdout",
          "text": [
            "[[0 1 2]\n",
            " [3 4 5]\n",
            " [6 7 8]]\n",
            "[[ 0  1  2]\n",
            " [ 3  4  5]\n",
            " [ 6  7  8]\n",
            " [ 9 10 11]\n",
            " [12 13 14]]\n"
          ]
        }
      ],
      "source": [
        "a : NDArray[Shape[\"Size , Size\"], UInt64] = np.arange(3 * 3).reshape(3, 3); # 2 Dimensions Array\n",
        "\n",
        "print(a);\n",
        "\n",
        "b : NDArray[Shape[\"Size , Size\"], UInt64] = np.arange(5 * 3).reshape(5, 3);\n",
        "\n",
        "print(b);"
      ]
    },
    {
      "cell_type": "code",
      "execution_count": 38,
      "metadata": {
        "colab": {
          "base_uri": "https://localhost:8080/"
        },
        "id": "a5gh1nPdxLgr",
        "outputId": "508b063c-2786-4400-b580-408e03c66b10"
      },
      "outputs": [
        {
          "output_type": "stream",
          "name": "stdout",
          "text": [
            "[[[ 0  1  2]\n",
            "  [ 3  4  5]\n",
            "  [ 6  7  8]]\n",
            "\n",
            " [[ 9 10 11]\n",
            "  [12 13 14]\n",
            "  [15 16 17]]]\n",
            "\n",
            "[[[ 0  1]\n",
            "  [ 2  3]]\n",
            "\n",
            " [[ 4  5]\n",
            "  [ 6  7]]\n",
            "\n",
            " [[ 8  9]\n",
            "  [10 11]]\n",
            "\n",
            " [[12 13]\n",
            "  [14 15]]\n",
            "\n",
            " [[16 17]\n",
            "  [18 19]]]\n"
          ]
        }
      ],
      "source": [
        "a : NDArray[Shape[\"Size , Size , Size\"], UInt64] = np.arange(2 * 3 * 3).reshape(2, 3, 3); # 3 Dimensions Array\n",
        "\n",
        "print(f\"{a}\\n\");\n",
        "\n",
        "b : NDArray[Shape[\"Size , Size , Size\"], UInt64] = np.arange(5 * 2 * 2).reshape(5, 2, 2);\n",
        "\n",
        "print(b);"
      ]
    },
    {
      "cell_type": "code",
      "execution_count": 39,
      "metadata": {
        "colab": {
          "base_uri": "https://localhost:8080/"
        },
        "id": "SpMxiTMSycLu",
        "outputId": "26f81508-6265-4071-9acc-23ce6f150889"
      },
      "outputs": [
        {
          "output_type": "stream",
          "name": "stdout",
          "text": [
            "[[[ 0  1]\n",
            "  [ 2  3]]\n",
            "\n",
            " [[ 8  9]\n",
            "  [10 11]]\n",
            "\n",
            " [[16 17]\n",
            "  [18 19]]]\n"
          ]
        }
      ],
      "source": [
        "b : NDArray[Shape[\"Size , Size , Size\"], UInt64] = np.arange(5 * 2 * 2).reshape(5, 2, 2);\n",
        "\n",
        "print(b[::2, ::, ::]); # 2D Array , Rows & Items In Row"
      ]
    },
    {
      "cell_type": "code",
      "execution_count": 40,
      "metadata": {
        "colab": {
          "base_uri": "https://localhost:8080/"
        },
        "id": "SdjuHu0pzk0s",
        "outputId": "21042645-db64-4328-a90e-b9f5eddc8bce"
      },
      "outputs": [
        {
          "output_type": "stream",
          "name": "stdout",
          "text": [
            "[[[ 0  1]\n",
            "  [ 2  3]]\n",
            "\n",
            " [[12 13]\n",
            "  [14 15]]]\n"
          ]
        }
      ],
      "source": [
        "print(b[::3, ::, ::]);"
      ]
    },
    {
      "cell_type": "code",
      "execution_count": 41,
      "metadata": {
        "colab": {
          "base_uri": "https://localhost:8080/"
        },
        "id": "uNGjtPzqzqbO",
        "outputId": "157fe94c-1f3d-47a1-f9f1-1baa3a8290e1"
      },
      "outputs": [
        {
          "output_type": "execute_result",
          "data": {
            "text/plain": [
              "[array([[[ True, False],\n",
              "         [ True, False]],\n",
              " \n",
              "        [[ True, False],\n",
              "         [ True, False]],\n",
              " \n",
              "        [[ True, False],\n",
              "         [ True, False]],\n",
              " \n",
              "        [[ True, False],\n",
              "         [ True, False]],\n",
              " \n",
              "        [[ True, False],\n",
              "         [ True, False]]])]"
            ]
          },
          "metadata": {},
          "execution_count": 41
        }
      ],
      "source": [
        "b : NDArray[Shape[\"Size , Size , Size\"], Bool] = np.arange(5 * 2 * 2).reshape(5, 2, 2);\n",
        "\n",
        "[b % 2 == 0]"
      ]
    },
    {
      "cell_type": "code",
      "source": [
        "print(b[b % 2 == 0]);"
      ],
      "metadata": {
        "colab": {
          "base_uri": "https://localhost:8080/"
        },
        "id": "Fq0KCTjnAnIi",
        "outputId": "9d381818-4b1c-4d92-eb58-097910606c77"
      },
      "execution_count": 42,
      "outputs": [
        {
          "output_type": "stream",
          "name": "stdout",
          "text": [
            "[ 0  2  4  6  8 10 12 14 16 18]\n"
          ]
        }
      ]
    },
    {
      "cell_type": "code",
      "execution_count": 44,
      "metadata": {
        "colab": {
          "base_uri": "https://localhost:8080/"
        },
        "id": "eStWY-xxbN_c",
        "outputId": "4eb3629b-fc3c-4eef-eb7a-bb398030e136"
      },
      "outputs": [
        {
          "output_type": "stream",
          "name": "stdout",
          "text": [
            "[1 2 3]\n"
          ]
        },
        {
          "output_type": "execute_result",
          "data": {
            "text/plain": [
              "array(1)"
            ]
          },
          "metadata": {},
          "execution_count": 44
        }
      ],
      "source": [
        "print(np.asarray((1,2,3))); # Convert In Array\n",
        "\n",
        "np.asarray((1))"
      ]
    },
    {
      "cell_type": "code",
      "execution_count": 45,
      "metadata": {
        "colab": {
          "base_uri": "https://localhost:8080/"
        },
        "id": "EKPutT3Fboxy",
        "outputId": "2cbace63-307b-4683-8492-6f1825092f84"
      },
      "outputs": [
        {
          "output_type": "stream",
          "name": "stdout",
          "text": [
            "[0. 0. 0. 0. 0. 0. 0. 0. 0. 0.]\n"
          ]
        }
      ],
      "source": [
        "print(np.zeros(10));"
      ]
    },
    {
      "cell_type": "code",
      "execution_count": 46,
      "metadata": {
        "colab": {
          "base_uri": "https://localhost:8080/"
        },
        "id": "c7RJTSTUbwK6",
        "outputId": "4698c3a8-1f2c-41f6-d5c3-d90a184af2dd"
      },
      "outputs": [
        {
          "output_type": "stream",
          "name": "stdout",
          "text": [
            "[[0. 0.]\n",
            " [0. 0.]]\n"
          ]
        }
      ],
      "source": [
        "print(np.zeros((2, 2)));"
      ]
    },
    {
      "cell_type": "code",
      "execution_count": 47,
      "metadata": {
        "colab": {
          "base_uri": "https://localhost:8080/"
        },
        "id": "4ao1fMRGcGJT",
        "outputId": "73287b19-5e71-4ea4-ab37-5c44ddfd1c9d"
      },
      "outputs": [
        {
          "output_type": "stream",
          "name": "stdout",
          "text": [
            "[[1. 1.]\n",
            " [1. 1.]]\n"
          ]
        }
      ],
      "source": [
        "print(np.ones((2, 2)));"
      ]
    },
    {
      "cell_type": "code",
      "execution_count": 48,
      "metadata": {
        "colab": {
          "base_uri": "https://localhost:8080/"
        },
        "id": "q7htUnj0dDfU",
        "outputId": "57e4a327-5b65-4ae0-e325-15126df0b30f"
      },
      "outputs": [
        {
          "output_type": "stream",
          "name": "stdout",
          "text": [
            "[[[ 0  1]\n",
            "  [ 2  3]]\n",
            "\n",
            " [[ 4  5]\n",
            "  [ 6  7]]\n",
            "\n",
            " [[ 8  9]\n",
            "  [10 11]]\n",
            "\n",
            " [[12 13]\n",
            "  [14 15]]\n",
            "\n",
            " [[16 17]\n",
            "  [18 19]]]\n"
          ]
        }
      ],
      "source": [
        "x : NDArray[Shape[\"Size , Size , Size\"], UInt64] = np.arange(5 * 2 * 2).reshape(5, 2, 2);\n",
        "\n",
        "print(x);"
      ]
    },
    {
      "cell_type": "code",
      "execution_count": 49,
      "metadata": {
        "colab": {
          "base_uri": "https://localhost:8080/"
        },
        "id": "ZjrS113RdQMQ",
        "outputId": "2a9f6022-1377-44dd-e6df-a2d6c4d16b20"
      },
      "outputs": [
        {
          "output_type": "stream",
          "name": "stdout",
          "text": [
            "[[[1 1]\n",
            "  [1 1]]\n",
            "\n",
            " [[1 1]\n",
            "  [1 1]]\n",
            "\n",
            " [[1 1]\n",
            "  [1 1]]\n",
            "\n",
            " [[1 1]\n",
            "  [1 1]]\n",
            "\n",
            " [[1 1]\n",
            "  [1 1]]]\n"
          ]
        }
      ],
      "source": [
        "print(np.ones_like(x));"
      ]
    },
    {
      "cell_type": "code",
      "source": [
        "print(np.zeros_like(x));"
      ],
      "metadata": {
        "colab": {
          "base_uri": "https://localhost:8080/"
        },
        "id": "cXpw2s8aBnlA",
        "outputId": "57361caa-c21e-4f2a-f3ad-263f8222d7c4"
      },
      "execution_count": 50,
      "outputs": [
        {
          "output_type": "stream",
          "name": "stdout",
          "text": [
            "[[[0 0]\n",
            "  [0 0]]\n",
            "\n",
            " [[0 0]\n",
            "  [0 0]]\n",
            "\n",
            " [[0 0]\n",
            "  [0 0]]\n",
            "\n",
            " [[0 0]\n",
            "  [0 0]]\n",
            "\n",
            " [[0 0]\n",
            "  [0 0]]]\n"
          ]
        }
      ]
    },
    {
      "cell_type": "code",
      "source": [
        "print(np.full_like(x, 4)); # Array Convert Custom Number"
      ],
      "metadata": {
        "colab": {
          "base_uri": "https://localhost:8080/"
        },
        "id": "nL5VnGxBBpt1",
        "outputId": "4c124453-a0ce-4ad3-c78e-76dde1c067bd"
      },
      "execution_count": 51,
      "outputs": [
        {
          "output_type": "stream",
          "name": "stdout",
          "text": [
            "[[[4 4]\n",
            "  [4 4]]\n",
            "\n",
            " [[4 4]\n",
            "  [4 4]]\n",
            "\n",
            " [[4 4]\n",
            "  [4 4]]\n",
            "\n",
            " [[4 4]\n",
            "  [4 4]]\n",
            "\n",
            " [[4 4]\n",
            "  [4 4]]]\n"
          ]
        }
      ]
    },
    {
      "cell_type": "code",
      "execution_count": 52,
      "metadata": {
        "colab": {
          "base_uri": "https://localhost:8080/"
        },
        "id": "Kc0vw-1md1o0",
        "outputId": "ba853178-5934-4a5a-b703-a8faf63c63d3"
      },
      "outputs": [
        {
          "output_type": "stream",
          "name": "stdout",
          "text": [
            "[[[ 0  1]\n",
            "  [ 2  3]]\n",
            "\n",
            " [[16 17]\n",
            "  [18 19]]]\n"
          ]
        }
      ],
      "source": [
        "x : NDArray[Shape[\"Size , Size , Size\"], UInt64] = np.arange(5 * 2 * 2).reshape(5, 2, 2);\n",
        "\n",
        "print(x[[0, -1], ::, ::]); # Custom Indexing"
      ]
    },
    {
      "cell_type": "code",
      "execution_count": 53,
      "metadata": {
        "colab": {
          "base_uri": "https://localhost:8080/"
        },
        "id": "NXNCDlLifNFt",
        "outputId": "1aa70e21-0416-4d50-8b3a-07ae4b7cd49b"
      },
      "outputs": [
        {
          "output_type": "stream",
          "name": "stdout",
          "text": [
            "[ 1  2  3  4  5  6  7  8  9 10 11 12 13 14 15 16 17 18 19 20]\n",
            "1\n",
            "20\n",
            "0\n",
            "19\n",
            "10.5\n",
            "210\n",
            "[  1   3   6  10  15  21  28  36  45  55  66  78  91 105 120 136 153 171\n",
            " 190 210]\n"
          ]
        }
      ],
      "source": [
        "ndata : NDArray[Shape[\"20\"], UInt64] = np.arange(1, 21);\n",
        "\n",
        "print(ndata);\n",
        "\n",
        "print(ndata.min());\n",
        "\n",
        "print(ndata.max());\n",
        "\n",
        "print(ndata.argmin()); # Return Index Of Min Value\n",
        "\n",
        "print(ndata.argmax()); # Return Index Of Max Value\n",
        "\n",
        "print(ndata.mean()); # Average Calculate Of All Elements\n",
        "\n",
        "print(ndata.sum()); # Return Sum Of All Elements\n",
        "\n",
        "print(ndata.cumsum()); # Return Cumulative Sum Calculate"
      ]
    }
  ],
  "metadata": {
    "colab": {
      "provenance": []
    },
    "kernelspec": {
      "display_name": "Python 3",
      "name": "python3"
    },
    "language_info": {
      "name": "python",
      "version": "3.12.0"
    }
  },
  "nbformat": 4,
  "nbformat_minor": 0
}