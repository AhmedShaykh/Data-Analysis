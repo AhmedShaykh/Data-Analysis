{
 "cells": [
  {
   "cell_type": "code",
   "execution_count": 19,
   "metadata": {},
   "outputs": [
    {
     "name": "stdout",
     "output_type": "stream",
     "text": [
      "[1, 2, 3, 4, 5, 6, 7, 8, 9]\n"
     ]
    }
   ],
   "source": [
    "import pandas as pd;\n",
    "\n",
    "li : list[int] = [1,2,3,4,5,6,7,8,9]; # Normal List\n",
    "\n",
    "print(li);"
   ]
  },
  {
   "cell_type": "code",
   "execution_count": 20,
   "metadata": {},
   "outputs": [
    {
     "name": "stdout",
     "output_type": "stream",
     "text": [
      "0    1\n",
      "1    2\n",
      "2    3\n",
      "3    4\n",
      "4    5\n",
      "dtype: int64\n"
     ]
    }
   ],
   "source": [
    "s1 : pd.Series = pd.Series([1,2,3,4,5]); # Pandas List\n",
    "\n",
    "print(s1);"
   ]
  },
  {
   "cell_type": "code",
   "execution_count": 21,
   "metadata": {},
   "outputs": [
    {
     "name": "stdout",
     "output_type": "stream",
     "text": [
      "0    1\n",
      "1    2\n",
      "2    3\n",
      "3    4\n",
      "4    5\n",
      "dtype: int64\n"
     ]
    }
   ],
   "source": [
    "s1 : pd.Series = pd.Series((1,2,3,4,5));\n",
    "\n",
    "print(s1);"
   ]
  },
  {
   "cell_type": "code",
   "execution_count": 22,
   "metadata": {},
   "outputs": [
    {
     "name": "stdout",
     "output_type": "stream",
     "text": [
      "a    10\n",
      "b    20\n",
      "c    30\n",
      "d    40\n",
      "e    50\n",
      "f    60\n",
      "g    70\n",
      "dtype: int64\n"
     ]
    }
   ],
   "source": [
    "s1 : pd.Series = pd.Series({ \n",
    "                            \"a\": 10,\n",
    "                            \"b\":20,\n",
    "                            \"c\":30,\n",
    "                            \"d\":40,\n",
    "                            \"e\":50,\n",
    "                            \"f\":60,\n",
    "                            \"g\":70,\n",
    "                        }); # Series Apply In Tuple, Dict & List But Not Apply In Set\n",
    "\n",
    "print(s1);"
   ]
  },
  {
   "cell_type": "code",
   "execution_count": 23,
   "metadata": {},
   "outputs": [
    {
     "name": "stdout",
     "output_type": "stream",
     "text": [
      "a    1\n",
      "b    2\n",
      "c    3\n",
      "d    4\n",
      "e    5\n",
      "dtype: int64\n"
     ]
    }
   ],
   "source": [
    "values: list[int] = [1, 2, 3, 4, 5];\n",
    "\n",
    "indexs: list[str] = [\"a\", \"b\", \"c\", \"d\", \"e\"];\n",
    "\n",
    "s1: pd.Series = pd.Series(values, index=indexs);\n",
    "\n",
    "print(s1);"
   ]
  },
  {
   "cell_type": "code",
   "execution_count": 24,
   "metadata": {},
   "outputs": [
    {
     "name": "stdout",
     "output_type": "stream",
     "text": [
      "a1  a    1\n",
      "    b    2\n",
      "    c    3\n",
      "b1  d    4\n",
      "    e    5\n",
      "dtype: int64\n"
     ]
    }
   ],
   "source": [
    "values: list[int] = [1, 2, 3, 4, 5];\n",
    "\n",
    "indexs: list[list[str]] = [\n",
    "                        [\"a1\", \"a1\", \"a1\", \"b1\", \"b1\"], # Multi Index\n",
    "                        [\"a\", \"b\", \"c\", \"d\", \"e\"]\n",
    "                    ];\n",
    "\n",
    "s1: pd.Series = pd.Series(values, index=indexs);\n",
    "\n",
    "print(s1);"
   ]
  },
  {
   "cell_type": "code",
   "execution_count": 25,
   "metadata": {},
   "outputs": [
    {
     "name": "stdout",
     "output_type": "stream",
     "text": [
      "a1  a    1\n",
      "    b    2\n",
      "    c    3\n",
      "b1  d    4\n",
      "    e    5\n",
      "Name: Pandas Series, dtype: int64\n"
     ]
    }
   ],
   "source": [
    "values: list[int] = [1, 2, 3, 4, 5];\n",
    "\n",
    "indexs: list[list[str]] = [\n",
    "                        [\"a1\", \"a1\", \"a1\", \"b1\", \"b1\"],\n",
    "                        [\"a\", \"b\", \"c\", \"d\", \"e\"]\n",
    "                    ];\n",
    "\n",
    "s1: pd.Series = pd.Series(values, index=indexs , name=\"Pandas Series\");\n",
    "\n",
    "print(s1);"
   ]
  },
  {
   "cell_type": "code",
   "execution_count": 26,
   "metadata": {},
   "outputs": [
    {
     "name": "stdout",
     "output_type": "stream",
     "text": [
      "a1  a    1\n",
      "    b    2\n",
      "    c    3\n",
      "b1  d    4\n",
      "    e    5\n",
      "Name: Pandas Series, dtype: int32\n"
     ]
    }
   ],
   "source": [
    "import numpy as np;\n",
    "\n",
    "values: list[int] = [1, 2, 3, 4, 5];\n",
    "\n",
    "indexs: list[list[str]] = [\n",
    "                        [\"a1\", \"a1\", \"a1\", \"b1\", \"b1\"],\n",
    "                        [\"a\", \"b\", \"c\", \"d\", \"e\"]\n",
    "                    ];\n",
    "\n",
    "s1: pd.Series = pd.Series(values, \n",
    "                          index=indexs, \n",
    "                          name=\"Pandas Series\",\n",
    "                          dtype=np.int32);\n",
    "\n",
    "print(s1);"
   ]
  }
 ],
 "metadata": {
  "kernelspec": {
   "display_name": "py12",
   "language": "python",
   "name": "python3"
  },
  "language_info": {
   "codemirror_mode": {
    "name": "ipython",
    "version": 3
   },
   "file_extension": ".py",
   "mimetype": "text/x-python",
   "name": "python",
   "nbconvert_exporter": "python",
   "pygments_lexer": "ipython3",
   "version": "3.12.0"
  }
 },
 "nbformat": 4,
 "nbformat_minor": 2
}
